{
 "cells": [
  {
   "cell_type": "markdown",
   "id": "96c934a0",
   "metadata": {},
   "source": [
    "# Prompt Engineering for Generative AI\n",
    "**Instructor:** Ronnie Sheer"
   ]
  },
  {
   "cell_type": "code",
   "execution_count": 1,
   "id": "adbc923a",
   "metadata": {},
   "outputs": [],
   "source": [
    "import pandas as pd"
   ]
  },
  {
   "cell_type": "markdown",
   "id": "3c0fe535",
   "metadata": {},
   "source": [
    "- **Generative AI:** A broad description of a subset of AI that generates data such as text, images, audio, video, code.\n",
    "- **Prompt engineering:** Crafting ideal inputs in order to get the most out of large language models\n",
    "- Examples of Large Language Models: GPT1, GPT2, GPT3, Jurassic, GPTJ, Dall-E, Midjourney, Stable Diffusion, BERT, Bard and LaMDA\n",
    "- Token: A unite easily understood by a language model; one word can be made up of multiple tokens. For example:"
   ]
  },
  {
   "cell_type": "code",
   "execution_count": 5,
   "id": "e479e688",
   "metadata": {},
   "outputs": [
    {
     "data": {
      "text/html": [
       "<div>\n",
       "<style scoped>\n",
       "    .dataframe tbody tr th:only-of-type {\n",
       "        vertical-align: middle;\n",
       "    }\n",
       "\n",
       "    .dataframe tbody tr th {\n",
       "        vertical-align: top;\n",
       "    }\n",
       "\n",
       "    .dataframe thead th {\n",
       "        text-align: right;\n",
       "    }\n",
       "</style>\n",
       "<table border=\"1\" class=\"dataframe\">\n",
       "  <thead>\n",
       "    <tr style=\"text-align: right;\">\n",
       "      <th></th>\n",
       "      <th>Words</th>\n",
       "      <th>Tokens</th>\n",
       "    </tr>\n",
       "  </thead>\n",
       "  <tbody>\n",
       "    <tr>\n",
       "      <th>0</th>\n",
       "      <td>Everyday</td>\n",
       "      <td>[Every, day]</td>\n",
       "    </tr>\n",
       "    <tr>\n",
       "      <th>1</th>\n",
       "      <td>Joyful</td>\n",
       "      <td>[Joy, ful]</td>\n",
       "    </tr>\n",
       "    <tr>\n",
       "      <th>2</th>\n",
       "      <td>I'd like</td>\n",
       "      <td>[I,'d, like]</td>\n",
       "    </tr>\n",
       "  </tbody>\n",
       "</table>\n",
       "</div>"
      ],
      "text/plain": [
       "      Words        Tokens\n",
       "0  Everyday  [Every, day]\n",
       "1    Joyful    [Joy, ful]\n",
       "2  I'd like  [I,'d, like]"
      ]
     },
     "execution_count": 5,
     "metadata": {},
     "output_type": "execute_result"
    }
   ],
   "source": [
    "data = {'Words': ['Everyday', 'Joyful', \"I'd like\"], 'Tokens': ['[Every, day]', '[Joy, ful]', \"[I,\\'d, like]\"]}\n",
    "pd.DataFrame.from_dict(data)"
   ]
  },
  {
   "cell_type": "markdown",
   "id": "c1458e02",
   "metadata": {},
   "source": [
    "- **Tokenization:** The mechanism by which a model splits its inputs into tokens. The tokenization method can greatly affect a model's output.\n",
    "- **Large Language Model:** Takes an input and produces a token as output.\n",
    "\n",
    "### Text Generation\n",
    "#### ChatGPT\n",
    "- The model's knowledge is frozen in time."
   ]
  },
  {
   "cell_type": "code",
   "execution_count": null,
   "id": "1b438d1f",
   "metadata": {},
   "outputs": [],
   "source": []
  },
  {
   "cell_type": "code",
   "execution_count": null,
   "id": "b1be8eb3",
   "metadata": {},
   "outputs": [],
   "source": []
  },
  {
   "cell_type": "code",
   "execution_count": null,
   "id": "576c1c32",
   "metadata": {},
   "outputs": [],
   "source": []
  },
  {
   "cell_type": "code",
   "execution_count": null,
   "id": "7c3e6b06",
   "metadata": {},
   "outputs": [],
   "source": []
  },
  {
   "cell_type": "code",
   "execution_count": null,
   "id": "d5186fbc",
   "metadata": {},
   "outputs": [],
   "source": []
  }
 ],
 "metadata": {
  "kernelspec": {
   "display_name": "Python 3",
   "language": "python",
   "name": "python3"
  },
  "language_info": {
   "codemirror_mode": {
    "name": "ipython",
    "version": 3
   },
   "file_extension": ".py",
   "mimetype": "text/x-python",
   "name": "python",
   "nbconvert_exporter": "python",
   "pygments_lexer": "ipython3",
   "version": "3.8.8"
  }
 },
 "nbformat": 4,
 "nbformat_minor": 5
}
